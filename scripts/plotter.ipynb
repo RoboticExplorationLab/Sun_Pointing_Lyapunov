{
 "cells": [
  {
   "cell_type": "code",
   "execution_count": null,
   "metadata": {},
   "outputs": [],
   "source": [
    "using Plots\n",
    "using DelimitedFiles\n",
    "using LinearAlgebra"
   ]
  },
  {
   "cell_type": "code",
   "execution_count": null,
   "metadata": {},
   "outputs": [],
   "source": [
    "moment_error_mc = readdlm(\"moment_error_mc.csv\", ',')\n",
    "moment_error_mc_eq = readdlm(\"moment_error_mc_eq.csv\", ',')\n",
    "sun_error_mc = readdlm(\"sun_error_mc.csv\", ',')\n",
    "sun_error_mc_eq = readdlm(\"sun_error_mc_eq.csv\", ',')"
   ]
  },
  {
   "cell_type": "code",
   "execution_count": null,
   "metadata": {},
   "outputs": [],
   "source": [
    "function plot_mc_sun(x_mc,N,thist,titletext)\n",
    "    idx = 1:10:length(thist)\n",
    "    plot(thist[idx]/3600,x_mc[idx,:],legend = false, color = :blue, alpha = 0.1, xlabel = \"Time (hours)\", ylabel = \"Sun error (deg)\", title = titletext, fontfamily = \"Palatino\", minorgrid = \"true\", xticks  = 0:0.5:4.5)\n",
    "    average_sun_error = zeros(length(idx))\n",
    "    for k = 1:length(idx)\n",
    "        average_sun_error[k] = sum(x_mc[idx[k],:])/N\n",
    "    end\n",
    "    display(average_sun_error[end])\n",
    "    plot!(thist[idx]/3600,average_sun_error, color = :red, linewidth = 2, label = \"Average Sun error\")\n",
    "end\n",
    "function plot_mc_momentum(x_mc,N,thist,titletext)\n",
    "    idx = 1:10:length(thist)\n",
    "    plot(thist[idx]/3600,x_mc[idx,:],legend = false, color = :blue, alpha = 0.1, xlabel = \"Time (hours)\", ylabel = \"Normalized momentum error\", title = titletext, fontfamily = \"Palatino\", minorgrid = \"true\", xticks  = 0:0.5:4.5)\n",
    "    average_momentum_error = zeros(length(idx))\n",
    "    for k = 1:length(idx)\n",
    "        average_momentum_error[k] = sum(x_mc[idx[k],:])/N\n",
    "    end\n",
    "    display(average_momentum_error[end])\n",
    "    plot!(thist[idx]/3600,average_momentum_error, color = :red,linewidth = 2, label = \"Average Momentum error\")\n",
    "end"
   ]
  },
  {
   "cell_type": "code",
   "execution_count": null,
   "metadata": {},
   "outputs": [],
   "source": [
    "Tfinal = 3*90*60;\n",
    "Δt = 0.05\n",
    "thist = 0:Δt:Tfinal"
   ]
  },
  {
   "cell_type": "code",
   "execution_count": null,
   "metadata": {},
   "outputs": [],
   "source": [
    "plot_mc_sun(sun_error_mc,100,thist)\n",
    "# savefig(\"sun_error_mc.pdf\")"
   ]
  },
  {
   "cell_type": "code",
   "execution_count": null,
   "metadata": {},
   "outputs": [],
   "source": [
    "sun_error_baseline = readdlm(\"sun_error_baseline.csv\", ',')"
   ]
  },
  {
   "cell_type": "code",
   "execution_count": null,
   "metadata": {},
   "outputs": [],
   "source": [
    "plot(thist/3600,sun_error_baseline,legend = false, color = :blue, xlabel = \"Time (hours)\", ylabel = \"Sun error (deg)\", title = \"Sun pointing error\", fontfamily = \"Palatino\", minorgrid = \"true\", xticks  = 0:0.5:4.5)"
   ]
  },
  {
   "cell_type": "code",
   "execution_count": null,
   "metadata": {},
   "outputs": [],
   "source": [
    "sun_error_mc_baseline = readdlm(\"sun_error_mc_baseline.csv\")"
   ]
  },
  {
   "cell_type": "code",
   "execution_count": null,
   "metadata": {},
   "outputs": [],
   "source": [
    "plot_mc_sun(sun_error_mc_baseline,100,thist)\n",
    "savefig(\"sun_error_mc_baseline.pdf\")"
   ]
  },
  {
   "cell_type": "code",
   "execution_count": null,
   "metadata": {},
   "outputs": [],
   "source": [
    "sun_error_mc_eq = readdlm(\"sun_error_mc_eq.csv\", ',')"
   ]
  },
  {
   "cell_type": "code",
   "execution_count": null,
   "metadata": {},
   "outputs": [],
   "source": [
    "plot_mc_sun(sun_error_mc_eq,100,thist)\n",
    "savefig(\"sun_error_mc_eq.pdf\")"
   ]
  },
  {
   "cell_type": "code",
   "execution_count": null,
   "metadata": {},
   "outputs": [],
   "source": [
    "sun_error_mc_comb = readdlm(\"sun_error_mc_comb.csv\")"
   ]
  },
  {
   "cell_type": "code",
   "execution_count": null,
   "metadata": {},
   "outputs": [],
   "source": [
    "sun_error_mc_baseline_comb = readdlm(\"sun_error_mc_baseline_comb.csv\")"
   ]
  },
  {
   "cell_type": "code",
   "execution_count": null,
   "metadata": {},
   "outputs": [],
   "source": [
    "plot_mc_sun(sun_error_mc_baseline_comb,100,thist,\"Baseline (SSO)\")\n",
    "savefig(\"sun_error_mc_baseline_comb_sso.pdf\")"
   ]
  },
  {
   "cell_type": "code",
   "execution_count": null,
   "metadata": {},
   "outputs": [],
   "source": [
    "plot_mc_sun(sun_error_mc_comb,100,thist,\"Lyapunov Hybrid (SSO)\")\n",
    "savefig(\"sun_error_mc_comb_sso.pdf\")"
   ]
  },
  {
   "cell_type": "code",
   "execution_count": null,
   "metadata": {},
   "outputs": [],
   "source": [
    "function plot_mc_averages(x_mc,y_mc,N,thist)\n",
    "    idx = 1:10:length(thist)\n",
    "    average_x = zeros(length(idx))\n",
    "    average_y = zeros(length(idx))\n",
    "    for k = 1:length(idx)\n",
    "        average_x[k] = sum(x_mc[idx[k],:])/N\n",
    "        average_y[k] = sum(y_mc[idx[k],:])/N\n",
    "    end\n",
    "    plot(thist[idx]/3600,average_x, color = :red, linewidth = 2, label = \"Lyapunov Hybrid\")\n",
    "    plot!(thist[idx]/3600,average_y, color = :blue, linewidth = 2, label = \"Baseline\", xlabel = \"Time (hours)\", ylabel = \"Sun error (degrees)\", fontfamily = \"Palatino\", minorgrid = \"true\", xticks  = 0:0.5:4.5)\n",
    "end"
   ]
  },
  {
   "cell_type": "code",
   "execution_count": null,
   "metadata": {},
   "outputs": [],
   "source": [
    "plot_mc_averages(sun_error_mc_comb,sun_error_mc_baseline_comb,100,thist)\n",
    "savefig(\"sun_error_mc_comb_sso_vs_baseline.pdf\")"
   ]
  },
  {
   "cell_type": "code",
   "execution_count": null,
   "metadata": {},
   "outputs": [],
   "source": [
    "momentum_mc_comb = readdlm(\"momentum_mc_comb.csv\")\n",
    "momentum_mc_baseline_comb = readdlm(\"momentum_mc_baseline_comb.csv\")"
   ]
  },
  {
   "cell_type": "code",
   "execution_count": null,
   "metadata": {},
   "outputs": [],
   "source": [
    "plot_mc_momentum(momentum_mc_comb,100,thist,\"Hybrid Lyapunov (SSO)\")\n",
    "savefig(\"momentum_mc_sso.pdf\")"
   ]
  },
  {
   "cell_type": "code",
   "execution_count": null,
   "metadata": {},
   "outputs": [],
   "source": [
    "plot_mc_momentum(momentum_mc_baseline_comb,100,thist)"
   ]
  },
  {
   "cell_type": "code",
   "execution_count": null,
   "metadata": {},
   "outputs": [],
   "source": [
    "sun_error_baseline_comb_iss = readdlm(\"sun_error_mc_baseline_comb_iss.csv\")\n",
    "sun_error_mc_comb_iss = readdlm(\"sun_error_mc_comb_iss.csv\")"
   ]
  },
  {
   "cell_type": "code",
   "execution_count": null,
   "metadata": {},
   "outputs": [],
   "source": [
    "plot_mc_sun(sun_error_mc_comb_iss,100,thist,\"Lyapunov Hybrid(LEO)\")\n",
    "savefig(\"sun_error_mc_comb_leo.pdf\")"
   ]
  },
  {
   "cell_type": "code",
   "execution_count": null,
   "metadata": {},
   "outputs": [],
   "source": [
    "plot_mc_sun(sun_error_baseline_comb_iss,100,thist,\"Baseline (LEO)\")\n",
    "savefig(\"sun_error_mc_baseline_comb_leo.pdf\")"
   ]
  },
  {
   "cell_type": "code",
   "execution_count": null,
   "metadata": {},
   "outputs": [],
   "source": [
    "plot_mc_averages(sun_error_mc_comb_iss,sun_error_baseline_comb_iss,100,thist)\n",
    "savefig(\"sun_error_mc_comb_leo_vs_baseline.pdf\")"
   ]
  },
  {
   "cell_type": "code",
   "execution_count": null,
   "metadata": {},
   "outputs": [],
   "source": [
    "x_sim_paper = readdlm(\"x_sim_paper.csv\")"
   ]
  },
  {
   "cell_type": "code",
   "execution_count": null,
   "metadata": {},
   "outputs": [],
   "source": [
    "function plot_which_lyapunov(x, thist)\n",
    "    lyapunov = zeros(length(thist))\n",
    "    h_hist = J_true*x[8:10,:]\n",
    "    s_hist = x[5:7,:]\n",
    "    h_target = 0.2*0.005\n",
    "    spin_axis_target = major_axis\n",
    "    for k = 1:length(thist)\n",
    "        if max(norm(s_hist[:,k]-h_hist[:,k]/norm(h_hist[:,k])),0.15) > max(norm(spin_axis_target-h_hist[:,k]/h_target),0.26)\n",
    "            lyapunov[k] = 1\n",
    "        else\n",
    "            lyapunov[k] = 2\n",
    "        end\n",
    "    end\n",
    "    idx = 1:1:length(thist)\n",
    "    h_hist = h_hist*1000\n",
    "    plot(h_hist[1,idx],h_hist[2,idx],h_hist[3,idx],line_z = lyapunov[idx], c =:blues, legend=false,fontfamily = \"Computer Modern\", widen = true )\n",
    "    #plot(thist,lyapunov) \n",
    "end"
   ]
  },
  {
   "cell_type": "code",
   "execution_count": null,
   "metadata": {},
   "outputs": [],
   "source": [
    "J_true = readdlm(\"J_true.csv\")"
   ]
  },
  {
   "cell_type": "code",
   "execution_count": null,
   "metadata": {},
   "outputs": [],
   "source": [
    "#Inertia (from CAD)\n",
    "J = [.0043 -.0003 0.0;\n",
    "          -.0003 .0049 0.0;\n",
    "            0.0   0.0 .0035]\n",
    "\n",
    "umax = 50*.1*.1*0.1\n",
    "major_axis = [-0.382683; 0.92388; 0.0]"
   ]
  },
  {
   "cell_type": "code",
   "execution_count": null,
   "metadata": {},
   "outputs": [],
   "source": [
    "plot_which_lyapunov(x_sim_paper, thist)"
   ]
  },
  {
   "cell_type": "code",
   "execution_count": null,
   "metadata": {},
   "outputs": [],
   "source": [
    "function plot_two_mcs_sun(x_mc1,x_mc2,N,thist)\n",
    "    idx = 1:10:length(thist)\n",
    "    layout = @layout [a b]\n",
    "    p1 = plot(thist[idx]/3600,x_mc1[idx,:],legend = false, color = :blue, alpha = 0.1, xlabel = \"Time (hours)\", ylabel = \"Sun error (deg)\", title = \"Lyapunov Hybrid Controller \", fontfamily = \"Palatino\", minorgrid = \"true\", xticks  = 0:0.5:4.5)\n",
    "    average_sun_error1 = zeros(length(idx))\n",
    "    for k = 1:length(idx)\n",
    "        average_sun_error1[k] = sum(x_mc1[idx[k],:])/N\n",
    "    end\n",
    "    display(average_sun_error1[end])\n",
    "    p1 = plot!(thist[idx]/3600,average_sun_error1, color = :red, linewidth = 2, label = \"Average Sun error\")\n",
    "    p2 = plot(thist[idx]/3600,x_mc2[idx,:],legend = false, color = :blue, alpha = 0.1, xlabel = \"Time (hours)\", ylabel = \"Sun error (deg)\", title = \"Baseline \", fontfamily = \"Palatino\", minorgrid = \"true\", xticks  = 0:0.5:4.5)\n",
    "    average_sun_error2 = zeros(length(idx))\n",
    "    for k = 1:length(idx)\n",
    "        average_sun_error2[k] = sum(x_mc2[idx[k],:])/N\n",
    "    end\n",
    "    display(average_sun_error2[end])\n",
    "    p2 = plot!(thist[idx]/3600,average_sun_error2, color = :red, linewidth = 2, label = \"Average Sun error\")\n",
    "    plot(p1,p2,layout = layout, size = (1000, 400))\n",
    "end"
   ]
  },
  {
   "cell_type": "code",
   "execution_count": null,
   "metadata": {},
   "outputs": [],
   "source": [
    "plot_two_mcs_sun(sun_error_mc_comb_iss,sun_error_baseline_comb_iss,100,thist)"
   ]
  },
  {
   "cell_type": "code",
   "execution_count": null,
   "metadata": {},
   "outputs": [],
   "source": []
  }
 ],
 "metadata": {
  "kernelspec": {
   "display_name": "Julia 1.7.3",
   "language": "julia",
   "name": "julia-1.7"
  },
  "language_info": {
   "file_extension": ".jl",
   "mimetype": "application/julia",
   "name": "julia",
   "version": "1.7.3"
  },
  "orig_nbformat": 4
 },
 "nbformat": 4,
 "nbformat_minor": 2
}
